{
 "cells": [
  {
   "cell_type": "markdown",
   "metadata": {},
   "source": [
    "# Week 3 tutorial: Multiclass classification and neural networks\n",
    "# Part 1\n",
    "### Introduction\n",
    "In this exercise, you will implement one-vs-all logistic regression and neural networks to recognize hand-written digits. Hopefully you have watched the video lectures associated with this week. **Please keep the function declarations as they are.**\n",
    "\n",
    "To get started with this exercise, you will need to download the Week 3 folder from the github or dropbox.\n",
    "<br>\n",
    "\n",
    "### External files included for this exercise\n",
    " - $\\texttt{data/ex3data1.mat}$ - Dataset of handwritten digits (subset of MNIST)\n",
    " - $\\texttt{images/}$ - Set of figures for the jupyter notebooks\n",
    " - $\\texttt{utils/math_utils.py}$ - Some handy functions you've made in the past\n",
    " - $\\texttt{utils/plot_utils.py}$ - Matplotlib scripts\n",
    " - $\\texttt{utils/week_3_utils.py}$ - Functions specific to this week's module\n",
    "\n"
   ]
  },
  {
   "cell_type": "code",
   "execution_count": null,
   "metadata": {},
   "outputs": [],
   "source": [
    "%matplotlib inline\n",
    "import numpy as np\n",
    "import matplotlib.pyplot as plt\n",
    "import sklearn\n",
    "import scipy.io as sio"
   ]
  },
  {
   "cell_type": "markdown",
   "metadata": {},
   "source": [
    "# 1 - Multiclass classification\n",
    "For this exercise, you will use logistic regression and neural networks to recognize handwritten digits (from 0 to 9). Automated handwritten digit recognition is widely used today - from recognizing zip codes (postal codes) on mail envelopes to recognizing amounts written on bank checks. This exercise will show you how the methods you’ve learned can be used for this classification task.\n",
    "In the first part of the exercise, you will extend your previous implemention of logistic regression and apply it to one-vs-all classification.\n",
    "\n",
    "## 1.1 - Dataset\n",
    "You are given a data set in $\\texttt{ex3data1.mat}$ that contains 5000 training examples of handwritten digits (This is a subset of the MNIST dataset prepared by Andrew Ng). The .mat format means that that the data has been saved in a native Octave/MATLAB matrix format, instead of a text (ASCII) format like a csv-file. These matrices can be read directly into your program by using the scipy commands. The matricies loads like a dictionary (or an HDF5 file if you are familiar). \n",
    "\n",
    "There are 5000 training examples in $\\texttt{ex3data1.mat}$, where each training example is a 20 pixel by 20 pixel grayscale image of the digit. Each pixel is represented by a floating point number indicating the grayscale intensity at that location. The 20 by 20 grid of pixels is “unrolled” into a 400-dimensional vector. Each of these training examples becomes a single row in our data matrix X. This gives us a 5000 by 400 matrix X where every row is a training example for a handwritten digit image.\n",
    "\\begin{equation*}\n",
    "X = \\begin{bmatrix}\n",
    "\\cdots(x^{(1)})^T\\cdots\\\\\n",
    "\\cdots(x^{(2)})^T\\cdots\\\\\n",
    "\\vdots\\\\\n",
    "\\cdots(x^{(m)})^T\\cdots\\\\\n",
    "\\end{bmatrix}\n",
    "\\end{equation*}\n",
    "\n",
    "The second part of the training set is a 5000-dimensional vector y that contains labels for the training set. The data was adjusted from the MATLAB compatible implementation so that 0 corresponts to a label of \"0\", and changes the indexing to work with numpy via consecutive reshapes. "
   ]
  },
  {
   "cell_type": "code",
   "execution_count": null,
   "metadata": {},
   "outputs": [],
   "source": [
    "matlab_data = sio.loadmat('../data/ex3data1.mat')\n",
    "X = matlab_data['X']\n",
    "X = X.reshape((X.shape[0],20,20),order='F')\n",
    "X = X.reshape(X.shape[0],400)\n",
    "y = matlab_data['y'].ravel()\n",
    "y[y==10] = 0"
   ]
  },
  {
   "cell_type": "markdown",
   "metadata": {},
   "source": [
    "## 1.2  - Visualizing the data\n",
    "You will begin by visualizing a subset of the training set. The code below randomly selects selects 100 rows from X and passes those rows to the `display_data()` function. This function maps each row to a 20 pixel by 20 pixel grayscale image and displays the images together. We have provided the `display_data()` function, and you are encouraged to examine the code to see how it works."
   ]
  },
  {
   "cell_type": "code",
   "execution_count": null,
   "metadata": {},
   "outputs": [],
   "source": [
    "import sys\n",
    "sys.path.append(\"../utils\")\n",
    "from plot_utils import display_data\n",
    "indicies = np.random.randint(0,X.shape[0],100)\n",
    "fig = display_data(X[indicies,:])"
   ]
  },
  {
   "cell_type": "markdown",
   "metadata": {},
   "source": [
    "## 1.3 - One-vs-all \n",
    "Recall that we have previously vectorized the cost function for logistic regression\n",
    "\\begin{equation}\n",
    "J(\\theta) = \\frac{1}{m}\\sum^m_{i=1} \\left[\n",
    "-y^{(i)} \\log(h_\\theta(x^{(i)})) - (1-y^{(i)}) \\log(1-h_\\theta(x^{(i)}))\n",
    "\\right]\n",
    "\\end{equation}\n",
    "and the gradient:\n",
    "\\begin{equation}\n",
    "\\frac{\\partial J(\\theta)}{\\partial\\theta_j} = \\frac{1}{m} \\sum^m_{i=1} (h_\\theta(x^{(i)}) - y^{(i)})x^{(i)}_{j} .\\end{equation}\n",
    "We also made use of the sklearn implementation.\n",
    "\n",
    "In this part of the exercise, you will implement one-vs-all classification by training multiple regularized logistic regression classifiers, one for each of the K classes in our dataset. In the handwritten digits dataset, K = 10, but your code should work for any value of K.\n",
    "\n",
    "**Exercise: Complete the code in function `one_vs_all()` to train one classifier for each class, using `sklearn.linear_model.LogisticRegression`. In particular, your code should return all the classifier parameters in a matrix $\\Theta \\in \\mathbb{R}^{K\\times(N+1)}$, where each row of $\\Theta$ corresponds to the learned logistic regression parameters for one class. You can do this with a “for”-loop from 1 to K, training each classifier independently.**\n",
    "\n",
    "When training the classifier for class $k \\in \\{1,...,K\\}$, you will want a m-dimensional vector of labels $y$, where $y_j \\in 0,1$ indicates whether the $j^{\\mathrm{th}}$ training instance belongs to class $k$ ($y_j = 1$), or if it \n",
    "belongs to a different class ($y_j = 0$). \n",
    "<br>\n",
    "*Hints:* \n",
    "1. You may find logical arrays helpful for this task. For instance `y_tmp = (y==10).astype(int)` will return our ground truth vector as a binary classifier of 1's and 0's for the number 10).\n",
    "2. In your call to LogisticRegression(), use the 'lbfgs' solver, `max_iters=max_iters`, `fit_intercept=False`.\n",
    "3. After performing the fit, the attributre `.coef_` contains the theta coefficients"
   ]
  },
  {
   "cell_type": "code",
   "execution_count": null,
   "metadata": {},
   "outputs": [],
   "source": [
    "def one_vs_all(X,y,n_labels,regularize=1,max_iter=5000):\n",
    "    from sklearn.linear_model import LogisticRegression\n",
    "    '''\n",
    "    One-vs-all training of multiple logisitc regression classifiers, and returns all\n",
    "    of the classifier weight matricies in a single matrix all_theta, where the first\n",
    "    index corresponds to different classifiers, and the second axis contains a \n",
    "    classifier's weights. \n",
    "    \n",
    "    Inputs\n",
    "    ================\n",
    "    X : (m,n) matrix of features\n",
    "    y : (m,1) vector of integer classes\n",
    "    n_labels : number of unique integer classes in y\n",
    "    regularize : lambda value for regularization (1/C for sklearn)\n",
    "    max_iter : maximum number of iterations per class \n",
    "    \n",
    "    Returns\n",
    "    =================\n",
    "    all_theta : matrix of all classifier weights\n",
    "    '''\n",
    "    all_theta = np.zeros((n_labels,X.shape[1]))\n",
    "    \n",
    "    ### START CODE HERE ###\n",
    "\n",
    "    ### END CODE HERE ###\n",
    "    return all_theta\n",
    "all_theta = one_vs_all(X,y,10)"
   ]
  },
  {
   "cell_type": "markdown",
   "metadata": {},
   "source": [
    "### 1.3.1 - One-vs-all predictions\n",
    "After training your one-vs-all classifier, you can now use it to predict the digit contained in a given image. For each input, you should compute the “probability” that it belongs to each class using the trained logistic regression classifiers, and return the highest probability. We are doing this first as an exercise using the weight matrix from `one_vs_all()`, then we will look at how to do this in its totality using the sklearn API. \n",
    "\n",
    "**Exercise: You should now complete the code in the function `predict_one_vs_all()` to use the one-vs-all classifier to make predictions. Your one-vs-all prediction function will pick the class for which the corresponding logistic regression classifier outputs the highest probability and return the class label (1, 2,..., or K) as the prediction for the input example.**\n"
   ]
  },
  {
   "cell_type": "code",
   "execution_count": null,
   "metadata": {},
   "outputs": [],
   "source": [
    "def predict_one_vs_all(X,all_theta):\n",
    "    from math_utils import sigmoid\n",
    "    '''\n",
    "    creates \n",
    "    \n",
    "    Inputs\n",
    "    ================\n",
    "    X : (m,n) matrix of features\n",
    "    all_theta : (K, n) matrix of all classifier weights\n",
    "    \n",
    "    Returns\n",
    "    =================\n",
    "    y_pred : predicted y_values\n",
    "    '''\n",
    "    \n",
    "    ### START CODE HERE ###\n",
    "\n",
    "    ### END CODE HERE ###\n",
    "    \n",
    "    return y_pred\n",
    "y_pred = predict_one_vs_all(X,all_theta)\n",
    "acc = np.mean(y_pred==np.ravel(y))\n",
    "print(\"Accuracy = \" ,acc)"
   ]
  },
  {
   "cell_type": "markdown",
   "metadata": {},
   "source": [
    "Expected accuracy ~ 0.94"
   ]
  },
  {
   "cell_type": "markdown",
   "metadata": {},
   "source": [
    "### 1.3.2 - Exploiting sklearn's potential\n",
    "We can actually feed sklearn the labels directly, and use the `multi_class` parameter. The below example fits with regularization, an intercept term, and then uses the native sklearn functions to predict our results, and goes a step further to use a native function to calculate our accuracy score.  "
   ]
  },
  {
   "cell_type": "code",
   "execution_count": null,
   "metadata": {},
   "outputs": [],
   "source": [
    "from sklearn.linear_model import LogisticRegression\n",
    "clf = LogisticRegression(C=1, solver='lbfgs', max_iter=5000,multi_class='multinomial').fit(X,y)\n",
    "y_pred = clf.predict(X)\n",
    "acc = np.mean(y_pred==np.ravel(y))\n",
    "print(\"This accuracy: \",acc, \"\\nshould be equivalent to this accuracy: \", clf.score(X,y))"
   ]
  }
 ],
 "metadata": {
  "kernelspec": {
   "display_name": "Python 3",
   "language": "python",
   "name": "python3"
  },
  "language_info": {
   "codemirror_mode": {
    "name": "ipython",
    "version": 3
   },
   "file_extension": ".py",
   "mimetype": "text/x-python",
   "name": "python",
   "nbconvert_exporter": "python",
   "pygments_lexer": "ipython3",
   "version": "3.6.8"
  }
 },
 "nbformat": 4,
 "nbformat_minor": 2
}
